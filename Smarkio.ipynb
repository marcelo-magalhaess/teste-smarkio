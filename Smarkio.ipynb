{
  "nbformat": 4,
  "nbformat_minor": 0,
  "metadata": {
    "colab": {
      "name": "Smarkio.ipynb",
      "provenance": [],
      "authorship_tag": "ABX9TyMvB5sTD5OAFyk+qCGsHrPc",
      "include_colab_link": true
    },
    "kernelspec": {
      "name": "python3",
      "display_name": "Python 3"
    }
  },
  "cells": [
    {
      "cell_type": "markdown",
      "metadata": {
        "id": "view-in-github",
        "colab_type": "text"
      },
      "source": [
        "<a href=\"https://colab.research.google.com/github/marcelo-magalhaess/teste-smarkio/blob/main/Smarkio.ipynb\" target=\"_parent\"><img src=\"https://colab.research.google.com/assets/colab-badge.svg\" alt=\"Open In Colab\"/></a>"
      ]
    },
    {
      "cell_type": "markdown",
      "metadata": {
        "id": "6wo3bE-iGIdk"
      },
      "source": [
        "Este notebook foi desenvolvido com o objetivo de aplicação para o processo seletivo de estágio em DataScience na Smarkio Itajubá.\r\n",
        "<br><br><br>\r\n",
        "<center><img  src=\"https://smark.io/img/smarkio-logo-dark.png\" ><center><br><br><br>"
      ]
    },
    {
      "cell_type": "markdown",
      "metadata": {
        "id": "36lLIEaQgVAA"
      },
      "source": [
        "Neste notebook serão respondidas as 5 questões solicitadas no teste da vaga para Data Science, sendo elas:\r\n",
        "\r\n",
        "1. Análise exploratória dos dados utilizando estatística descritiva e inferencial,\r\n",
        "considerando uma, duas e/ou mais variáveis;\r\n",
        "2. Calcule o desempenho do modelo de classificação utilizando pelo menos três\r\n",
        "métricas;\r\n",
        "3. Crie um classificador que tenha como output se os dados com status igual a\r\n",
        "revision estão corretos ou não (Sugestão : Técnica de cross-validation K-fold);\r\n",
        "4. Compare três métricas de avaliação aplicadas ao modelo e descreva sobre a\r\n",
        "diferença;\r\n",
        "5. Crie um classificador, a partir da segunda aba - NLP do arquivo de dados, que\r\n",
        "permita identificar qual trecho de música corresponde às respectivas artistas listadas\r\n",
        "(Sugestão: Naive Bayes Classifier).\r\n",
        "\r\n",
        "\r\n",
        "\r\n",
        "\r\n",
        "<br><br><br><br><br><br><br><br><br><br><br><br><br><br>\r\n",
        "#1. Análise exploratória\r\n",
        "\r\n",
        "<center><img src=\"https://images.unsplash.com/photo-1529078155058-5d716f45d604?ixlib=rb-1.2.1&ixid=MXwxMjA3fDB8MHxwaG90by1wYWdlfHx8fGVufDB8fHw%3D&auto=format&fit=crop&w=749&q=80\" ></center>\r\n",
        "\r\n",
        "O primeiro ponto a ser abordado, será a análise exploratória dos dados, de forma que tenhamos uma conclusão geral dos dados, quantidades e formatos.\r\n",
        "\r\n",
        "###Importando bibliotecas\r\n",
        "\r\n",
        "Primeiramente, antes de começar toda a análise, serão importadas as biliotecas necessárias para se fazer a análise. A bibliotecas usada será:\r\n",
        "\r\n",
        "* Pandas para manipulação dos dados\r\n"
      ]
    },
    {
      "cell_type": "code",
      "metadata": {
        "id": "NnOwOmPKh2vg"
      },
      "source": [
        "#importando a biblioteca pandas\r\n",
        "import pandas as pd\r\n",
        "\r\n"
      ],
      "execution_count": 26,
      "outputs": []
    },
    {
      "cell_type": "markdown",
      "metadata": {
        "id": "XEaKpxFgiMGC"
      },
      "source": [
        "###Importando dados\r\n",
        "\r\n",
        "Agora que as bibliotecas já estão importadas, é possível importar os dados para que sejam manipulados e análisados. Iremos fazer isso através da biblioteca pandas."
      ]
    },
    {
      "cell_type": "code",
      "metadata": {
        "id": "3xQnMbGhiaEc"
      },
      "source": [
        "data = pd.read_excel(\"https://s3.amazonaws.com/gupy5/production/companies/634/emails/1614302730414/7b0075b0-77d1-11eb-9933-2573999db431/teste_smarkio_lbs.xls\", None)"
      ],
      "execution_count": 27,
      "outputs": []
    },
    {
      "cell_type": "markdown",
      "metadata": {
        "id": "ePLE9-dDiwMM"
      },
      "source": [
        "###Análise dos dados\r\n",
        "\r\n",
        "Primeiramente iremos visualizar os primeiros dados do registro, para verificar a quantidade de atributos existentes, quantidade de dados e tipos."
      ]
    },
    {
      "cell_type": "code",
      "metadata": {
        "colab": {
          "base_uri": "https://localhost:8080/",
          "height": 204
        },
        "id": "1dMw1Shti8mz",
        "outputId": "cd54b16f-542c-436e-ace5-5581a3f31683"
      },
      "source": [
        "data['Análise_ML'].head()"
      ],
      "execution_count": 28,
      "outputs": [
        {
          "output_type": "execute_result",
          "data": {
            "text/html": [
              "<div>\n",
              "<style scoped>\n",
              "    .dataframe tbody tr th:only-of-type {\n",
              "        vertical-align: middle;\n",
              "    }\n",
              "\n",
              "    .dataframe tbody tr th {\n",
              "        vertical-align: top;\n",
              "    }\n",
              "\n",
              "    .dataframe thead th {\n",
              "        text-align: right;\n",
              "    }\n",
              "</style>\n",
              "<table border=\"1\" class=\"dataframe\">\n",
              "  <thead>\n",
              "    <tr style=\"text-align: right;\">\n",
              "      <th></th>\n",
              "      <th>Pred_class</th>\n",
              "      <th>probabilidade</th>\n",
              "      <th>status</th>\n",
              "      <th>True_class</th>\n",
              "    </tr>\n",
              "  </thead>\n",
              "  <tbody>\n",
              "    <tr>\n",
              "      <th>0</th>\n",
              "      <td>2</td>\n",
              "      <td>0.079892</td>\n",
              "      <td>approved</td>\n",
              "      <td>0.0</td>\n",
              "    </tr>\n",
              "    <tr>\n",
              "      <th>1</th>\n",
              "      <td>2</td>\n",
              "      <td>0.379377</td>\n",
              "      <td>approved</td>\n",
              "      <td>74.0</td>\n",
              "    </tr>\n",
              "    <tr>\n",
              "      <th>2</th>\n",
              "      <td>2</td>\n",
              "      <td>0.379377</td>\n",
              "      <td>approved</td>\n",
              "      <td>74.0</td>\n",
              "    </tr>\n",
              "    <tr>\n",
              "      <th>3</th>\n",
              "      <td>2</td>\n",
              "      <td>0.420930</td>\n",
              "      <td>approved</td>\n",
              "      <td>74.0</td>\n",
              "    </tr>\n",
              "    <tr>\n",
              "      <th>4</th>\n",
              "      <td>2</td>\n",
              "      <td>0.607437</td>\n",
              "      <td>approved</td>\n",
              "      <td>NaN</td>\n",
              "    </tr>\n",
              "  </tbody>\n",
              "</table>\n",
              "</div>"
            ],
            "text/plain": [
              "   Pred_class  probabilidade    status  True_class\n",
              "0           2       0.079892  approved         0.0\n",
              "1           2       0.379377  approved        74.0\n",
              "2           2       0.379377  approved        74.0\n",
              "3           2       0.420930  approved        74.0\n",
              "4           2       0.607437  approved         NaN"
            ]
          },
          "metadata": {
            "tags": []
          },
          "execution_count": 28
        }
      ]
    },
    {
      "cell_type": "markdown",
      "metadata": {
        "id": "zKc8q8SSjSyH"
      },
      "source": [
        "**Dicionário de variáveis**\r\n",
        "\r\n",
        "Este dicionário tem como objetivo deixar mais claro cada uma das colunas, para que facilite a análise futura.\r\n",
        "\r\n",
        "`Pred_class - Corresponde a classe que foi identificada pelo modelo`\r\n",
        "\r\n",
        "`probabilidade - Corresponde a probabilidade da classe, identificada pelo modelo`\r\n",
        "\r\n",
        "`status - Status da classificação, de acordo com um especialista`\r\n",
        "\r\n",
        "`True_class - Corresponde a classe verdadeira`\r\n",
        "\r\n"
      ]
    },
    {
      "cell_type": "markdown",
      "metadata": {
        "id": "oRxL7MqYk7GC"
      },
      "source": [
        "###**Quantidade de atributos e entradas e o tipo de cada um**\r\n",
        "\r\n",
        "Agora é necessário sabermos a quantidade de linhasXcolunas que o nosso arquivo possui"
      ]
    },
    {
      "cell_type": "code",
      "metadata": {
        "colab": {
          "base_uri": "https://localhost:8080/",
          "height": 136
        },
        "id": "yz4a9c-Gmrro",
        "outputId": "e217f028-a000-4cf6-e826-74db82f4b419"
      },
      "source": [
        "#Identificando volume dos dados\r\n",
        "print(\"Entradas:\\t {}\".format(data['Análise_ML'].shape[0]))\r\n",
        "print(\"Variáveis:\\t {}\".format(data['Análise_ML'].shape[1]))\r\n",
        "\r\n",
        "#verificando os tipos de cada coluna\r\n",
        "display(data['Análise_ML'].dtypes)"
      ],
      "execution_count": 29,
      "outputs": [
        {
          "output_type": "stream",
          "text": [
            "Entradas:\t 643\n",
            "Variáveis:\t 4\n"
          ],
          "name": "stdout"
        },
        {
          "output_type": "display_data",
          "data": {
            "text/plain": [
              "Pred_class         int64\n",
              "probabilidade    float64\n",
              "status            object\n",
              "True_class       float64\n",
              "dtype: object"
            ]
          },
          "metadata": {
            "tags": []
          }
        }
      ]
    },
    {
      "cell_type": "markdown",
      "metadata": {
        "id": "MqVJVNs_nc0J"
      },
      "source": [
        "Portanto, podemos observar que possuímos um total de 643 registros na aba em que estamos trabalhando e um total de 4 colunas, como já havia sido apresentado anteriormente."
      ]
    },
    {
      "cell_type": "markdown",
      "metadata": {
        "id": "_MLi_4Bpn4xR"
      },
      "source": [
        "###**Porcentagem de valores ausentes no dataset**\r\n",
        "\r\n",
        "Como os valores ausentes ou nulos podem interferir na análise dos dados, é necessário verificar a presença deles em nosso dataset."
      ]
    },
    {
      "cell_type": "code",
      "metadata": {
        "colab": {
          "base_uri": "https://localhost:8080/",
          "height": 0
        },
        "id": "34jGAqlApPSD",
        "outputId": "70d350cc-144e-4e6f-ad45-4679f33e153c"
      },
      "source": [
        "(data['Análise_ML'].isnull().sum() / data['Análise_ML'].shape[0]).sort_values(ascending=False)"
      ],
      "execution_count": 30,
      "outputs": [
        {
          "output_type": "execute_result",
          "data": {
            "text/plain": [
              "True_class       0.718507\n",
              "status           0.000000\n",
              "probabilidade    0.000000\n",
              "Pred_class       0.000000\n",
              "dtype: float64"
            ]
          },
          "metadata": {
            "tags": []
          },
          "execution_count": 30
        }
      ]
    },
    {
      "cell_type": "markdown",
      "metadata": {
        "id": "9xfF_MCCptG8"
      },
      "source": [
        "A única coluna com dados nulos é a coluna `True_class`, nos momentos em que os valores dessa coluna são nulos, serão considerados os valores de `Pred_class`."
      ]
    },
    {
      "cell_type": "markdown",
      "metadata": {
        "id": "-R1V_fXK4MZe"
      },
      "source": [
        "###Informações mais gerais dos dados\r\n",
        "\r\n",
        "Agora serão apresentadas informações mais gerais dos dados numéricos, como média dos valores, desvio padrão e quartis de valores.\r\n"
      ]
    },
    {
      "cell_type": "code",
      "metadata": {
        "colab": {
          "base_uri": "https://localhost:8080/",
          "height": 297
        },
        "id": "BJcIROgm4dkU",
        "outputId": "0775c231-7a91-4bfa-9297-39a76003bad5"
      },
      "source": [
        "data[\"Análise_ML\"].describe()"
      ],
      "execution_count": 31,
      "outputs": [
        {
          "output_type": "execute_result",
          "data": {
            "text/html": [
              "<div>\n",
              "<style scoped>\n",
              "    .dataframe tbody tr th:only-of-type {\n",
              "        vertical-align: middle;\n",
              "    }\n",
              "\n",
              "    .dataframe tbody tr th {\n",
              "        vertical-align: top;\n",
              "    }\n",
              "\n",
              "    .dataframe thead th {\n",
              "        text-align: right;\n",
              "    }\n",
              "</style>\n",
              "<table border=\"1\" class=\"dataframe\">\n",
              "  <thead>\n",
              "    <tr style=\"text-align: right;\">\n",
              "      <th></th>\n",
              "      <th>Pred_class</th>\n",
              "      <th>probabilidade</th>\n",
              "      <th>True_class</th>\n",
              "    </tr>\n",
              "  </thead>\n",
              "  <tbody>\n",
              "    <tr>\n",
              "      <th>count</th>\n",
              "      <td>643.000000</td>\n",
              "      <td>643.000000</td>\n",
              "      <td>181.000000</td>\n",
              "    </tr>\n",
              "    <tr>\n",
              "      <th>mean</th>\n",
              "      <td>52.712286</td>\n",
              "      <td>0.622436</td>\n",
              "      <td>38.574586</td>\n",
              "    </tr>\n",
              "    <tr>\n",
              "      <th>std</th>\n",
              "      <td>37.602068</td>\n",
              "      <td>0.266811</td>\n",
              "      <td>39.581017</td>\n",
              "    </tr>\n",
              "    <tr>\n",
              "      <th>min</th>\n",
              "      <td>2.000000</td>\n",
              "      <td>0.043858</td>\n",
              "      <td>0.000000</td>\n",
              "    </tr>\n",
              "    <tr>\n",
              "      <th>25%</th>\n",
              "      <td>12.000000</td>\n",
              "      <td>0.408017</td>\n",
              "      <td>0.000000</td>\n",
              "    </tr>\n",
              "    <tr>\n",
              "      <th>50%</th>\n",
              "      <td>59.000000</td>\n",
              "      <td>0.616809</td>\n",
              "      <td>24.000000</td>\n",
              "    </tr>\n",
              "    <tr>\n",
              "      <th>75%</th>\n",
              "      <td>81.000000</td>\n",
              "      <td>0.870083</td>\n",
              "      <td>74.000000</td>\n",
              "    </tr>\n",
              "    <tr>\n",
              "      <th>max</th>\n",
              "      <td>118.000000</td>\n",
              "      <td>1.000000</td>\n",
              "      <td>117.000000</td>\n",
              "    </tr>\n",
              "  </tbody>\n",
              "</table>\n",
              "</div>"
            ],
            "text/plain": [
              "       Pred_class  probabilidade  True_class\n",
              "count  643.000000     643.000000  181.000000\n",
              "mean    52.712286       0.622436   38.574586\n",
              "std     37.602068       0.266811   39.581017\n",
              "min      2.000000       0.043858    0.000000\n",
              "25%     12.000000       0.408017    0.000000\n",
              "50%     59.000000       0.616809   24.000000\n",
              "75%     81.000000       0.870083   74.000000\n",
              "max    118.000000       1.000000  117.000000"
            ]
          },
          "metadata": {
            "tags": []
          },
          "execution_count": 31
        }
      ]
    },
    {
      "cell_type": "markdown",
      "metadata": {
        "id": "B2fErOuA467-"
      },
      "source": [
        "**Primeiramente vamos análisar a coluna de probabilidade.**\r\n",
        "\r\n",
        "* A média das probabilidades corresponde a 62.24% de acerto, esse valor irá nos ajudar a categorizar o modelo posteriormente.\r\n",
        "\r\n",
        "* O desvio padrão possuí um valor de 0.266811, isso corresponde ao quanto os valores, de modo geral, se distanciam da média.\r\n",
        "\r\n",
        "* O valor minímo da probabilidade é de 4.3858% e o valor máximo de 100%, o que mostra que há casos em que o modelo conseguiu alcançar 100% de exito na identificação da classe.\r\n",
        "\r\n",
        "**Análise da coluna True_class**\r\n",
        "\r\n",
        "* O total de itens encontrados foi de 181, portanto, de 643 registros, um total de 462 valores não possuem o valor desta coluna e terão que ser considerados os valores da coluna Pred_class."
      ]
    }
  ]
}